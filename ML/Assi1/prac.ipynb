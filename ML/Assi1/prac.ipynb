{
 "cells": [
  {
   "cell_type": "code",
   "execution_count": null,
   "metadata": {},
   "outputs": [],
   "source": [
    "import pandas as pd;\n",
    "import numpy as np;\n",
    "import matplotlib.pyplot as plt\n",
    "import seaborn as sns\n",
    "\n",
    "# display Matplotlib plots directly within the notebook \n",
    "%matplotlib inline \n",
    "\n",
    "df= pd.read_csv(\"uber.csv\")\n",
    "# df.head()\n",
    "# df.isnull().sum()\n",
    "df.dropna(inplace=True)\n",
    "\n",
    "# df.describe()"
   ]
  },
  {
   "cell_type": "code",
   "execution_count": null,
   "metadata": {},
   "outputs": [],
   "source": [
    "# This line filters the DataFrame rows where the \"fare_amount\" is greater than or equal to 0. It removes any rows where the fare amount is negative, assuming that negative fare amounts are not valid or meaningful in the context of the dataset.\n",
    "df= df[df[\"fare_amount\"].apply( lambda x : x>=0)]\n",
    "\n",
    "# This line filters the DataFrame rows where the \"passenger_count\" is less than or equal to 8. It removes any rows where the passenger count is greater than 8, assuming that a passenger count greater than 8 is either an error or an outlier in the dataset. This is a common practice when dealing with datasets where certain values are expected to fall within a specific range.\n",
    "df = df[df[\"passenger_count\"].apply(lambda x : x <= 8)]\n",
    "\n",
    "# df.describe()\n",
    "plt.boxplot(df[\"fare_amount\"])"
   ]
  },
  {
   "cell_type": "code",
   "execution_count": null,
   "metadata": {},
   "outputs": [],
   "source": [
    "# This line calculates the 1st percentile (or the 1st quantile) of the \"fare_amount\" column. The 1st percentile represents the value below which 1% of the data falls. In other words, q_low is a threshold below which only 1% of the fare amounts in the dataset are located. This threshold is often used to identify and filter out extremely low values, potentially indicating outliers or errors.\n",
    "q_low = df[\"fare_amount\"].quantile(0.01)\n",
    "\n",
    "# This line calculates the 99th percentile (or the 99th quantile) of the \"fare_amount\" column. The 99th percentile represents the value below which 99% of the data falls. q_high is a threshold above which only 1% of the fare amounts in the dataset are located. This threshold is used to identify and filter out extremely high values, which could be outliers or errors.\n",
    "q_high= df[\"fare_amount\"].quantile(0.99) \n",
    "\n",
    "df= df[ (df[\"fare_amount\"] < q_high) & (df[\"fare_amount\"] > q_low)]\n",
    "\n",
    "# df.describe()\n"
   ]
  },
  {
   "cell_type": "code",
   "execution_count": null,
   "metadata": {},
   "outputs": [],
   "source": [
    "from sklearn.linear_model import LinearRegression\n",
    "from sklearn.metrics import r2_score, mean_squared_error\n",
    "from sklearn.model_selection import train_test_split\n",
    "\n",
    "df.drop(columns=\"pickup_datetime\", inplace=True)\n",
    "df.drop(columns=\"Unnamed: 0\", inplace=True)\n",
    "df.drop(columns=\"key\", inplace=True)\n",
    "# df.dtypes"
   ]
  },
  {
   "cell_type": "code",
   "execution_count": null,
   "metadata": {},
   "outputs": [],
   "source": [
    "\n",
    "x= df.drop(\"fare_amount\", axis=1)\n",
    "y= df[\"fare_amount\"]\n",
    "\n",
    "x_train, x_test, y_train, y_test = train_test_split(x, y, test_size=0.2, random_state=1)\n",
    "# x_train.head()\n",
    "\n",
    "lrmodel= LinearRegression()\n",
    "lrmodel.fit(x_train, y_train)\n",
    "predictedValues= lrmodel.predict(x_test)\n",
    "\n",
    "# Uses the trained linear regression model to make predictions on the test set (x_test).\n",
    "\n",
    "from sklearn.metrics import mean_squared_error\n",
    "lrmodelrmse= np.sqrt(mean_squared_error(predictedValues, y_test))\n",
    "print(\"RMSE value for Linear regression is\", lrmodelrmse)"
   ]
  },
  {
   "cell_type": "code",
   "execution_count": 76,
   "metadata": {},
   "outputs": [],
   "source": [
    "from sklearn.ensemble import RandomForestRegressor\n",
    "rfr_model = RandomForestRegressor(n_estimators=100, random_state = 101)\n",
    "\n",
    "rfr_model.fit(x_train, y_train)\n",
    "rfrmodel_pred = rfr_model.predict(x_test)\n",
    "\n",
    "#Errors for the forest\n",
    "rfrmodel_rmse = mean_squared_error(rfrmodel_pred, y_test, squared=False)\n",
    "print(\"RMSE value for Random Forest is:\",rfrmodel_rmse)\n",
    "\n"
   ]
  },
  {
   "cell_type": "code",
   "execution_count": null,
   "metadata": {},
   "outputs": [],
   "source": [
    "# Mean Squared Error (MSE):\n",
    "# The Mean Squared Error is a common metric used to measure the average squared difference between the predicted and actual values in a regression problem. It is calculated by taking the average of the squared differences between predicted and actual values for each data point. The formula for MSE is:\n",
    "\n",
    "# Root Mean Squared Error (RMSE):\n",
    "# The Root Mean Squared Error is the square root of the Mean Squared Error. It is a popular metric because it shares the same scale as the target variable, making it more interpretable. The formula for RMSE is:\n",
    "\n",
    "# Both MSE and RMSE provide a measure of the average magnitude of errors, with lower values indicating better model performance. RMSE is often preferred over MSE when you want an error metric in the same units as the target variable.\n",
    "\n",
    "# In summary:\n",
    "\n",
    "# MSE is the average of squared differences between predicted and actual values.\n",
    "# RMSE is the square root of MSE and provides a more interpretable error metric."
   ]
  }
 ],
 "metadata": {
  "kernelspec": {
   "display_name": "Python 3",
   "language": "python",
   "name": "python3"
  },
  "language_info": {
   "codemirror_mode": {
    "name": "ipython",
    "version": 3
   },
   "file_extension": ".py",
   "mimetype": "text/x-python",
   "name": "python",
   "nbconvert_exporter": "python",
   "pygments_lexer": "ipython3",
   "version": "3.12.0"
  }
 },
 "nbformat": 4,
 "nbformat_minor": 2
}
