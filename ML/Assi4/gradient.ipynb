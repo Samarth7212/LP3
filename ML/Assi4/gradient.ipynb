{
 "cells": [
  {
   "cell_type": "code",
   "execution_count": null,
   "metadata": {},
   "outputs": [],
   "source": [
    "# An algorithm to minimize a function by optimizing params\n",
    "\n",
    "def getFunction(x):\n",
    "    return (x + 3)**2\n"
   ]
  },
  {
   "cell_type": "code",
   "execution_count": null,
   "metadata": {},
   "outputs": [],
   "source": [
    "def getDerivative(x):\n",
    "    return 2 * (x + 3)"
   ]
  },
  {
   "cell_type": "code",
   "execution_count": null,
   "metadata": {},
   "outputs": [],
   "source": [
    "def gradientDescent(starting_x, learning_rate, iterations):\n",
    "    x = starting_x\n",
    "    for i in range(iterations):\n",
    "        gradient = getDerivative(x)\n",
    "        x = x - learning_rate * gradient\n",
    "        print(f\"Iteration {i + 1}: x = {x}, f(x) = {getFunction(x)}\")\n",
    "    return x"
   ]
  },
  {
   "cell_type": "code",
   "execution_count": null,
   "metadata": {},
   "outputs": [],
   "source": [
    "x = 2\n",
    "learning_rate = 0.1\n",
    "iterations = 100\n",
    "minima = gradientDescent(x, learning_rate, iterations)\n",
    "print(f\"Local minima found at x = {minima}, f(x) = {getFunction(x)}\")"
   ]
  },
  {
   "cell_type": "code",
   "execution_count": null,
   "metadata": {},
   "outputs": [],
   "source": [
    "import sympy as sym\n",
    "import numpy as np"
   ]
  },
  {
   "cell_type": "code",
   "execution_count": null,
   "metadata": {},
   "outputs": [],
   "source": [
    "import matplotlib as pyplot\n",
    "from matplotlib import pyplot\n",
    "alpha=0.1\n",
    "start=2\n",
    "max_iter=30\n",
    "x=sym.symbols('x')\n",
    "expr=(x+3)**2"
   ]
  },
  {
   "cell_type": "code",
   "execution_count": null,
   "metadata": {},
   "outputs": [],
   "source": [
    "x = gradientDescent(2, 0.1, max_iter)\n",
    "x_cor = np.linspace(-5,5,100)\n",
    "pyplot.plot(x_cor, getFunction(x_cor))\n",
    "# pyplot.plot(x_cor, getFunction(x_cor))\n",
    "pyplot.plot(x, getFunction(x), '.', color='green')\n"
   ]
  },
  {
   "cell_type": "code",
   "execution_count": null,
   "metadata": {},
   "outputs": [],
   "source": []
  }
 ],
 "metadata": {
  "kernelspec": {
   "display_name": "Python 3",
   "language": "python",
   "name": "python3"
  },
  "language_info": {
   "codemirror_mode": {
    "name": "ipython",
    "version": 3
   },
   "file_extension": ".py",
   "mimetype": "text/x-python",
   "name": "python",
   "nbconvert_exporter": "python",
   "pygments_lexer": "ipython3",
   "version": "3.12.0"
  }
 },
 "nbformat": 4,
 "nbformat_minor": 2
}
