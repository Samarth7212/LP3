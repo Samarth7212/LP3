{
 "cells": [
  {
   "cell_type": "code",
   "execution_count": 14,
   "metadata": {},
   "outputs": [],
   "source": [
    "import pandas as pd\n",
    "import numpy as np\n",
    "import matplotlib.pyplot as plt\n",
    "%matplotlib inline\n",
    "\n",
    "df= pd.read_csv(\"emails.csv\")\n",
    "# df.head()\n",
    "# df.describe()\n",
    "# for column in df.columns:\n",
    "#     print(column)"
   ]
  },
  {
   "cell_type": "code",
   "execution_count": 15,
   "metadata": {},
   "outputs": [],
   "source": [
    "x= df.drop(columns=['Email No.', 'spam'])\n",
    "y= df['spam']"
   ]
  },
  {
   "cell_type": "code",
   "execution_count": 16,
   "metadata": {},
   "outputs": [
    {
     "name": "stdout",
     "output_type": "stream",
     "text": [
      "Accuracy Score for SVC :  0.9893719806763285\n",
      "RMSE Score for SVC :  0.1030922854711811\n",
      "Accuracy  0.9903381642512077\n"
     ]
    }
   ],
   "source": [
    "from sklearn.metrics import r2_score, mean_squared_error, accuracy_score\n",
    "from sklearn.svm import SVC\n",
    "from sklearn.model_selection import train_test_split\n",
    "from sklearn.neighbors import KNeighborsClassifier\n",
    "\n",
    "x_train, x_test, y_train, y_test = train_test_split(x, y, test_size=0.2, random_state=42)\n",
    "\n",
    "# The SVC (Support Vector Classifier) in scikit-learn is a machine learning algorithm that is used for classification tasks. Its primary purpose is to find the optimal hyperplane that separates different classes in the feature space. Here's a breakdown of what SVC does:\n",
    "svc= SVC()\n",
    "svc.fit(x_train, y_train)\n",
    "svc_y_pred= svc.predict(x_test)\n",
    "\n",
    "def evaluateModel(predictions, model_name):\n",
    "    accuracy = accuracy_score(predictions, y_test)\n",
    "    rmse = mean_squared_error(predictions, y_test, squared=False)\n",
    "    print(\"Accuracy Score for SVC : \", accuracy)\n",
    "    print(\"RMSE Score for SVC : \", rmse)\n",
    "\n",
    "evaluateModel(svc_y_pred, \"SVM\")\n",
    "\n",
    "knn = KNeighborsClassifier(n_neighbors=7)\n",
    "knn.fit(x_train, y_train)\n",
    "knn_pred = knn.predict(x_test)\n",
    "print(\"Accuracy \", accuracy_score(knn_pred, y_test))\n"
   ]
  }
 ],
 "metadata": {
  "kernelspec": {
   "display_name": "Python 3",
   "language": "python",
   "name": "python3"
  },
  "language_info": {
   "codemirror_mode": {
    "name": "ipython",
    "version": 3
   },
   "file_extension": ".py",
   "mimetype": "text/x-python",
   "name": "python",
   "nbconvert_exporter": "python",
   "pygments_lexer": "ipython3",
   "version": "3.12.0"
  }
 },
 "nbformat": 4,
 "nbformat_minor": 2
}
